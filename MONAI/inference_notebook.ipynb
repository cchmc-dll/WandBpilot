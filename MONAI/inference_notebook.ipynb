{
 "cells": [
  {
   "cell_type": "markdown",
   "metadata": {},
   "source": [
    "## DeepEdit Inference Tutorial [Modified]"
   ]
  },
  {
   "cell_type": "markdown",
   "metadata": {},
   "source": [
    "DeepEdit is an algorithm that combines the power of two models in one single architecture. It allows the user to perform inference, as a standard segmentation method (i.e. UNet), and also to interactively segment part of an image using clicks (Sakinis et al.). DeepEdit aims to facilitate the user experience and at the same time the development of new active learning techniques.\n",
    "\n",
    "\n",
    "This Notebooks shows the performance of a model trained to segment the spleen. \n",
    "\n",
    "**Once the model is trained, we recommend importing the pretrained model into the [DeepEdit App in MONAI Label](https://github.com/Project-MONAI/MONAILabel/tree/main/sample-apps/radiology#deepedit) for full experience.**\n",
    "\n",
    "Sakinis et al., Interactive segmentation of medical images through fully convolutional neural networks. (2019) https://arxiv.org/abs/1903.08205"
   ]
  },
  {
   "cell_type": "code",
   "execution_count": 86,
   "metadata": {},
   "outputs": [
    {
     "name": "stdout",
     "output_type": "stream",
     "text": [
      "\u001b[33mWARNING: Running pip as the 'root' user can result in broken permissions and conflicting behaviour with the system package manager. It is recommended to use a virtual environment instead: https://pip.pypa.io/warnings/venv\u001b[0m\n"
     ]
    }
   ],
   "source": [
    "!python -c \"import monai\" || pip install -q \"monai-weekly[nibabel, tqdm]\"\n",
    "!python -c \"import matplotlib\" || pip install -q matplotlib==3.5.2\n",
    "!pip install -q pytorch-ignite==0.4.8\n",
    "\n",
    "%matplotlib inline"
   ]
  },
  {
   "cell_type": "markdown",
   "metadata": {},
   "source": [
    "#### Library versions used:\n",
    "\n",
    "monai-weekly==0.9.dev2219 itk==5.2.1.post1 matplotlib==3.5.2 nibabel==3.2.2 numpy==1.22.3 pytorch-ignite==0.4.8 scikit-image==0.19.2 scipy==1.8.0 tensorboard==2.8.0 torch==1.11.0 tqdm==4.64.0"
   ]
  },
  {
   "cell_type": "code",
   "execution_count": 120,
   "metadata": {},
   "outputs": [
    {
     "name": "stdout",
     "output_type": "stream",
     "text": [
      "MONAI version: 0.8.1+257.g6eaa3ab1\n",
      "Numpy version: 1.22.3\n",
      "Pytorch version: 1.9.0+cu111\n",
      "MONAI flags: HAS_EXT = False, USE_COMPILED = False\n",
      "MONAI rev id: 6eaa3ab1b0f5ba568d69785cefbdb1cde74d259a\n",
      "MONAI __file__: /workspace/MONAI/monai/__init__.py\n",
      "\n",
      "Optional dependencies:\n",
      "Pytorch Ignite version: 0.4.8\n",
      "Nibabel version: 3.2.2\n",
      "scikit-image version: 0.18.1\n",
      "Pillow version: 8.2.0\n",
      "Tensorboard version: 2.5.0\n",
      "gdown version: 4.4.0\n",
      "TorchVision version: 0.10.0+cu111\n",
      "tqdm version: 4.61.1\n",
      "lmdb version: 1.2.1\n",
      "psutil version: 5.9.0\n",
      "pandas version: 1.2.5\n",
      "einops version: 0.3.2\n",
      "transformers version: 4.8.1\n",
      "mlflow version: 1.18.0\n",
      "pynrrd version: 0.4.2\n",
      "\n",
      "For details about installing the optional dependencies, please visit:\n",
      "    https://docs.monai.io/en/latest/installation.html#installing-the-recommended-dependencies\n",
      "\n"
     ]
    }
   ],
   "source": [
    "# Copyright (c) MONAI Consortium\n",
    "# Licensed under the Apache License, Version 2.0 (the \"License\");\n",
    "# you may not use this file except in compliance with the License.\n",
    "# You may obtain a copy of the License at\n",
    "#     http://www.apache.org/licenses/LICENSE-2.0\n",
    "# Unless required by applicable law or agreed to in writing, software\n",
    "# distributed under the License is distributed on an \"AS IS\" BASIS,\n",
    "# WITHOUT WARRANTIES OR CONDITIONS OF ANY KIND, either express or implied.\n",
    "# See the License for the specific language governing permissions and\n",
    "# limitations under the License.\n",
    "\n",
    "import os\n",
    "import matplotlib.pyplot as plt\n",
    "import numpy as np\n",
    "import torch\n",
    "\n",
    "import monai\n",
    "from monai.config import print_config\n",
    "\n",
    "from monai.apps.deepedit.transforms import (\n",
    "    AddGuidanceSignalDeepEditd,\n",
    "    AddGuidanceFromPointsDeepEditd,\n",
    "    ResizeGuidanceMultipleLabelDeepEditd,\n",
    ")\n",
    "\n",
    "\n",
    "from monai.transforms import (\n",
    "    Activationsd,\n",
    "    AsDiscreted,\n",
    "    EnsureChannelFirstd,\n",
    "    EnsureTyped,\n",
    "    LoadImaged,\n",
    "    Orientationd,\n",
    "    Resized,\n",
    "    ScaleIntensityRanged,\n",
    "    SqueezeDimd,\n",
    "    ToNumpyd,\n",
    "    ToTensord,\n",
    ")\n",
    "\n",
    "from monai.networks.nets import DynUNet\n",
    "\n",
    "print_config()"
   ]
  },
  {
   "cell_type": "markdown",
   "metadata": {},
   "source": [
    "### Plotting functions"
   ]
  },
  {
   "cell_type": "code",
   "execution_count": 133,
   "metadata": {},
   "outputs": [],
   "source": [
    "def draw_points(guidance, slice_idx):\n",
    "    if guidance is None:\n",
    "        return\n",
    "    for p in guidance:\n",
    "        p1 = p[1]\n",
    "        p2 = p[0]\n",
    "        plt.plot(p1, p2, \"r+\", 'MarkerSize', 30)\n",
    "\n",
    "\n",
    "def show_image(image, label, guidance=None, slice_idx=None):\n",
    "    plt.figure(\"check\", (12, 6))\n",
    "    plt.subplot(1, 2, 1)\n",
    "    plt.title(\"image\")\n",
    "    plt.imshow(image, cmap=\"gray\")\n",
    "\n",
    "    if label is not None:\n",
    "        masked = np.ma.masked_where(label == 0, label)\n",
    "        plt.imshow(masked, 'jet', interpolation='none', alpha=0.7)\n",
    "\n",
    "    draw_points(guidance, slice_idx)\n",
    "    plt.colorbar()\n",
    "\n",
    "    if label is not None:\n",
    "        plt.subplot(1, 2, 2)\n",
    "        plt.title(\"label\")\n",
    "        plt.imshow(label)\n",
    "        plt.colorbar()\n",
    "        # draw_points(guidance, slice_idx)\n",
    "    plt.show()\n",
    "\n",
    "\n",
    "def print_data(data):\n",
    "    for k in data:\n",
    "        v = data[k]\n",
    "\n",
    "        d = type(v)\n",
    "        if type(v) in (int, float, bool, str, dict, tuple):\n",
    "            d = v\n",
    "        elif hasattr(v, 'shape'):\n",
    "            d = v.shape\n",
    "\n",
    "        if k in ('image_meta_dict', 'label_meta_dict'):\n",
    "            for m in data[k]:\n",
    "                print('{} Meta:: {} => {}'.format(k, m, data[k][m]))\n",
    "        else:\n",
    "            print('Data key: {} = {}'.format(k, d))"
   ]
  },
  {
   "cell_type": "markdown",
   "metadata": {},
   "source": [
    "### Network definition"
   ]
  },
  {
   "cell_type": "code",
   "execution_count": 134,
   "metadata": {},
   "outputs": [],
   "source": [
    "# labels\n",
    "labels = {'liver': 1,\n",
    "          'spleen': 2,\n",
    "          'background': 0\n",
    "          }\n",
    "\n",
    "spatial_size = [128, 128, 128]\n",
    "resized_size = [512, 512, 71]\n",
    "\n",
    "\n",
    "model = DynUNet(\n",
    "            spatial_dims=3,\n",
    "            in_channels=len(labels) + 1,\n",
    "            out_channels=len(labels),\n",
    "            kernel_size=[3, 3, 3, 3, 3, 3],\n",
    "            strides=[1, 2, 2, 2, 2, [2, 2, 1]],\n",
    "            upsample_kernel_size=[2, 2, 2, 2, [2, 2, 1]],\n",
    "            norm_name=\"instance\",\n",
    "            deep_supervision=False,\n",
    "            res_block=True,\n",
    "        )"
   ]
  },
  {
   "cell_type": "code",
   "execution_count": 135,
   "metadata": {
    "tags": []
   },
   "outputs": [
    {
     "name": "stdout",
     "output_type": "stream",
     "text": [
      "/workspace\n"
     ]
    }
   ],
   "source": [
    "# Download data and model\n",
    "%pwd\n",
    "%cd /workspace\n",
    "#monai default image\n",
    "resource = \"https://github.com/Project-MONAI/MONAI-extra-test-data/releases/download/0.8.1/_image.nii.gz\"\n",
    "#dst = \"_image.nii.gz\"\n",
    "dst = \"monai-label/datasets/CT_CCHMC_split/exam_98_CT_196.nii.gz\"\n",
    "\n",
    "#if not os.path.exists(dst):\n",
    "    #monai.apps.download_url(resource, dst)\n",
    "\n",
    "#resource = \"https://github.com/Project-MONAI/MONAI-extra-test-data/releases/\\\n",
    "#download/0.8.1/pretrained_deepedit_dynunet-final.pt\"\n",
    "#dst = \"pretrained_deepedit_dynunet-final.pt\"\n",
    "\n",
    "if not os.path.exists(dst):\n",
    "    print(\"file not found: \", dst)\n",
    "#    monai.apps.download_url(resource, dst)"
   ]
  },
  {
   "cell_type": "code",
   "execution_count": 136,
   "metadata": {
    "tags": []
   },
   "outputs": [
    {
     "name": "stdout",
     "output_type": "stream",
     "text": [
      "LoadImaged => image shape: (512, 512, 71)\n"
     ]
    },
    {
     "data": {
      "image/png": "[encoded data removed]",
      "text/plain": [
       "<Figure size 864x432 with 2 Axes>"
      ]
     },
     "metadata": {
      "needs_background": "light"
     },
     "output_type": "display_data"
    },
    {
     "name": "stdout",
     "output_type": "stream",
     "text": [
      "EnsureChannelFirstd => image shape: (1, 512, 512, 71)\n",
      "Orientationd => image shape: (1, 512, 512, 71)\n",
      "ScaleIntensityRanged => image shape: (1, 512, 512, 71)\n",
      "AddGuidanceFromPointsDeepEditd => image shape: (1, 512, 512, 71)\n",
      "Resized => image shape: (1, 128, 128, 128)\n",
      "ResizeGuidanceMultipleLabelDeepEditd => image shape: (1, 128, 128, 128)\n",
      "AddGuidanceSignalDeepEditd => image shape: (4, 128, 128, 128)\n",
      "ToTensord => image shape: torch.Size([4, 128, 128, 128])\n"
     ]
    }
   ],
   "source": [
    "data = {\n",
    "    #example CT_CCHMC image\n",
    "    'image': 'monai-label/datasets/CT_CCHMC_split/exam_98_CT_196.nii.gz',\n",
    "    #'guidance': {'liver': [[66, 180, 105], [66, 180, 145]], 'background': []},\n",
    "    #guidance\n",
    "    'guidance': {'liver': [[66, 180, 20], [66, 180, 145]], 'spleen': [[66, 180, 20], [66, 180, 145]], 'background': []},\n",
    "}\n",
    "\n",
    "slice_idx = original_slice_idx = data['guidance']['liver'][0][2]\n",
    "\n",
    "# Pre Processing\n",
    "\n",
    "pre_transforms = [\n",
    "    # Loading the image\n",
    "    LoadImaged(keys=\"image\", reader=\"ITKReader\"),\n",
    "    # Ensure channel first\n",
    "    EnsureChannelFirstd(keys=\"image\"),\n",
    "    # Change image orientation\n",
    "    Orientationd(keys=\"image\", axcodes=\"RAS\"),\n",
    "    # Scaling image intensity - works well for CT images\n",
    "    ScaleIntensityRanged(keys=\"image\", a_min=-175, a_max=250, b_min=0.0, b_max=1.0, clip=True),\n",
    "    # DeepEdit Tranforms for Inference #\n",
    "    # Add guidance (points) in the form of tensors based on the user input\n",
    "    AddGuidanceFromPointsDeepEditd(ref_image=\"image\", guidance=\"guidance\", label_names=labels),\n",
    "    # Resize the image\n",
    "    Resized(keys=\"image\", spatial_size=spatial_size, mode=\"area\"),\n",
    "    # Resize the guidance based on the image resizing\n",
    "    ResizeGuidanceMultipleLabelDeepEditd(guidance=\"guidance\", ref_image=\"image\"),\n",
    "    # Add the guidance to the input image\n",
    "    AddGuidanceSignalDeepEditd(keys=\"image\", guidance=\"guidance\"),\n",
    "    # Convert image to tensor\n",
    "    ToTensord(keys=\"image\"),\n",
    "]\n",
    "\n",
    "original_image = None\n",
    "\n",
    "# Going through each of the pre_transforms\n",
    "\n",
    "for t in pre_transforms:\n",
    "    tname = type(t).__name__\n",
    "    data = t(data)\n",
    "    image = data['image']\n",
    "    label = data.get('label')\n",
    "    guidance = data.get('guidance')\n",
    "\n",
    "    print(\"{} => image shape: {}\".format(tname, image.shape))\n",
    "\n",
    "    if tname == 'LoadImaged':\n",
    "        original_image = data['image']\n",
    "        label = None\n",
    "        tmp_image = image[:, :, slice_idx]\n",
    "        show_image(tmp_image, label, [guidance['liver'][0]], slice_idx)\n",
    "\n",
    "transformed_image = data['image']\n",
    "guidance = data.get('guidance')"
   ]
  },
  {
   "cell_type": "code",
   "execution_count": 137,
   "metadata": {},
   "outputs": [
    {
     "name": "stdout",
     "output_type": "stream",
     "text": [
      "EnsureTyped => image shape: torch.Size([4, 128, 128, 128]), pred shape: torch.Size([3, 128, 128, 128])\n",
      "Activationsd => image shape: torch.Size([4, 128, 128, 128]), pred shape: torch.Size([3, 128, 128, 128])\n",
      "AsDiscreted => image shape: torch.Size([4, 128, 128, 128]), pred shape: torch.Size([1, 128, 128, 128])\n",
      "SqueezeDimd => image shape: torch.Size([4, 128, 128, 128]), pred shape: torch.Size([128, 128, 128])\n",
      "ToNumpyd => image shape: torch.Size([4, 128, 128, 128]), pred shape: (128, 128, 128)\n"
     ]
    }
   ],
   "source": [
    "# Evaluation\n",
    "#\n",
    "model_path = 'MONAI/output/CT_CCHMC_split/pretrained_deepedit_dynunet-final.pt'\n",
    "model.load_state_dict(torch.load(model_path))\n",
    "model.cuda()\n",
    "model.eval()\n",
    "\n",
    "inputs = data['image'][None].cuda()\n",
    "with torch.no_grad():\n",
    "    outputs = model(inputs)\n",
    "outputs = outputs[0]\n",
    "data['pred'] = outputs\n",
    "\n",
    "\n",
    "#######\n",
    "post_transforms = [\n",
    "    EnsureTyped(keys=\"pred\"),\n",
    "    Activationsd(keys=\"pred\", softmax=True),\n",
    "    AsDiscreted(keys=\"pred\", argmax=True),\n",
    "    SqueezeDimd(keys=\"pred\", dim=0),\n",
    "    ## Ensure channel first\n",
    "    #EnsureChannelFirstd(keys=\"pred\"),\n",
    "    ## Resize the image\n",
    "    #Resized(keys=\"pred\", spatial_size=resized_size, mode=\"area\"),\n",
    "    ToNumpyd(keys=\"pred\"),\n",
    "]\n",
    "\n",
    "pred = None\n",
    "for t in post_transforms:\n",
    "    tname = type(t).__name__\n",
    "    data = t(data)\n",
    "    image = data['image']\n",
    "    label = data['pred']\n",
    "    print(\"{} => image shape: {}, pred shape: {}\".format(tname, image.shape, label.shape))\n",
    "\n",
    "#for i in range(10, 110, 10):\n",
    "#    image = transformed_image[0, :, :, i]  # Taking the first channel which is the main image\n",
    "#    label = data['pred'][:, :, i]\n",
    "#    if np.sum(label) == 0:\n",
    "#        continue\n",
    "\n",
    "#    print(\"Final PLOT:: {} => image shape: {}, pred shape: {}; min: {}, max: {}, sum: {}\".format(\n",
    "#        i, image.shape, label.shape, np.min(label), np.max(label), np.sum(label)))\n",
    "#    show_image(image, label)"
   ]
  },
  {
   "cell_type": "code",
   "execution_count": 138,
   "metadata": {},
   "outputs": [
    {
     "name": "stdout",
     "output_type": "stream",
     "text": [
      "Resize size:  [512, 512, 71]\n",
      "LoadImaged\n",
      "LoadImaged => image shape: (128, 128, 128)\n",
      "Resized\n",
      "Resized => image shape: (128, 512, 512, 71)\n"
     ]
    }
   ],
   "source": [
    "import nibabel as nib\n",
    "import nibabel.processing\n",
    "\n",
    "#data = np.arange(4*4*3).reshape(4,4,3)\n",
    "filename = os.path.basename(dst)\n",
    "prediction = data['pred']\n",
    "\n",
    "original_nii = nib.load(dst)\n",
    "\n",
    "new_nifti = nib.Nifti1Image(prediction, affine=np.eye(4))\n",
    "new_niftifdata = new_nifti.get_fdata()\n",
    "\n",
    "os.makedirs('MONAI/output/labels/CT_CCHMC_split/', exist_ok=True)\n",
    "nib.save(new_nifti,'MONAI/output/labels/CT_CCHMC_split/'+filename)\n",
    "\n",
    "data = {\n",
    "    'new_image': 'MONAI/output/labels/CT_CCHMC_split/'+filename,\n",
    "    #'guidance': {'liver': [[66, 180, 105], [66, 180, 145]], 'background': []},\n",
    "    #guidance\n",
    "    #'guidance': {'liver': [[66, 180, 20], [66, 180, 145]], 'spleen': [[66, 180, 20], [66, 180, 145]], 'background': []},\n",
    "}\n",
    "\n",
    "print(\"Resize size: \",resized_size)\n",
    "\n",
    "pre_transforms_2 = [\n",
    "    # Loading the image\n",
    "    LoadImaged(keys=\"new_image\", reader=\"ITKReader\"),\n",
    "    # Ensure channel first\n",
    "    #EnsureChannelFirstd(keys=\"new_image\"),\n",
    "    # Change image orientation\n",
    "    Orientationd(keys=\"new_image\", axcodes=\"RAS\"),\n",
    "    # Scaling image intensity - works well for CT images\n",
    "    #ScaleIntensityRanged(keys=\"new_image\", a_min=-175, a_max=250, b_min=0.0, b_max=1.0, clip=True),\n",
    "    # DeepEdit Tranforms for Inference #\n",
    "    # Add guidance (points) in the form of tensors based on the user input\n",
    "    #AddGuidanceFromPointsDeepEditd(ref_image=\"new_image\", guidance=\"guidance\", label_names=labels),\n",
    "    # Resize the image\n",
    "    Resized(keys=\"new_image\", spatial_size=resized_size, mode=\"nearest\"),\n",
    "    # Resize the guidance based on the image resizing\n",
    "    #ResizeGuidanceMultipleLabelDeepEditd(guidance=\"guidance\", ref_image=\"new_image\"),\n",
    "    # Add the guidance to the input image\n",
    "    #AddGuidanceSignalDeepEditd(keys=\"new_image\", guidance=\"guidance\"),\n",
    "    # Convert image to tensor\n",
    "    #ToTensord(keys=\"new_image\"),\n",
    "]\n",
    "\n",
    "original_image = None\n",
    "\n",
    "# Going through each of the pre_transforms\n",
    "\n",
    "for t in pre_transforms_2:\n",
    "    tname = type(t).__name__\n",
    "    print(tname)\n",
    "    data = t(data)\n",
    "    new_image = data['new_image']\n",
    "    label = data.get('label')\n",
    "    #guidance = data.get('guidance')\n",
    "\n",
    "    print(\"{} => image shape: {}\".format(tname, new_image.shape))\n",
    "\n",
    "    if tname == 'LoadImaged':\n",
    "        original_image = data['new_image']\n",
    "        label = None\n",
    "        #tmp_image = new_image[:, :, slice_idx]\n",
    "        #show_image(tmp_image, label, [guidance['liver'][0]], slice_idx)\n",
    "\n",
    "transformed_image = data['new_image']\n",
    "\n",
    "final_nifti = nib.Nifti1Image(transformed_image, affine=np.eye(4))\n",
    "\n",
    "\n",
    "\n",
    "#######\n",
    "\n",
    "#final_transforms = [\n",
    "#    # Ensure channel first\n",
    "#    EnsureChannelFirstd(keys=\"pred\"),\n",
    "#    # Resize the image\n",
    "#    Resized(keys=\"pred\", spatial_size=resized_size, mode=\"area\")\n",
    "#]\n",
    "#for t in final_transforms:\n",
    "#    tname = type(t).__name__\n",
    "##    data = t(data)\n",
    "##    imagel = data['pred']\n",
    "#     label = data.get('label')\n",
    "#    guidance = data.get('guidance')\n",
    "\n",
    "#    print(\"{} => image shape: {}\".format(tname, image.shape))\n",
    "\n",
    "#    if tname == 'LoadImaged':\n",
    "#        original_image = data['new_image']\n",
    "#        label = None\n",
    "#        tmp_image = image[:, :, slice_idx]\n",
    "#        show_image(tmp_image, label, [guidance['liver'][0]], slice_idx)\n",
    "\n",
    "#final_image = data['new_image']\n",
    "\n",
    "#for t in final_transforms:\n",
    "#    tname = type(t).__name__\n",
    "#    data = t(data)\n",
    "#    image = data['image']\n",
    "#    label = data['pred']\n",
    "#    print(\"{} => image shape: {}, pred shape: {}\".format(tname, image.shape, label.shape))\n",
    "\n",
    "\n",
    "#scaled_image = nib.processing.conform(new_image, out_shape=(512,512,71), voxel_size=(0.515,0.515,5.0))\n",
    "\n",
    "#scaled_image = nib.processing.resample_from_to(new_image, original_nii, mode='grid-wrap')\n",
    "\n",
    "#scaled_image = monai.transforms.resize()\n",
    "\n",
    "#import skimage.transform as skTrans\n",
    "\n",
    "#scaled_image = skTrans.resize(new_imagefdata, (512,512,71), order=1, preserve_range=True)\n",
    "\n",
    "#final_image = nib.Nifti1Image(scaled_image, affine=np.eye(4))\n",
    "\n",
    "os.makedirs('MONAI/output/labels/CT_CCHMC_split/', exist_ok=True)\n",
    "nib.save(final_nifti,'MONAI/output/labels/CT_CCHMC_split/'+filename)\n"
   ]
  },
  {
   "cell_type": "code",
   "execution_count": 80,
   "metadata": {},
   "outputs": [
    {
     "ename": "NameError",
     "evalue": "name 'scaled_image' is not defined",
     "output_type": "error",
     "traceback": [
      "\u001b[0;31m---------------------------------------------------------------------------\u001b[0m",
      "\u001b[0;31mNameError\u001b[0m                                 Traceback (most recent call last)",
      "\u001b[0;32m<ipython-input-80-2edf85b565ac>\u001b[0m in \u001b[0;36m<module>\u001b[0;34m\u001b[0m\n\u001b[0;32m----> 1\u001b[0;31m \u001b[0mprint\u001b[0m\u001b[0;34m(\u001b[0m\u001b[0mscaled_image\u001b[0m\u001b[0;34m.\u001b[0m\u001b[0mshape\u001b[0m\u001b[0;34m)\u001b[0m\u001b[0;34m\u001b[0m\u001b[0;34m\u001b[0m\u001b[0m\n\u001b[0m\u001b[1;32m      2\u001b[0m \u001b[0;34m\u001b[0m\u001b[0m\n\u001b[1;32m      3\u001b[0m \u001b[0maffine1\u001b[0m \u001b[0;34m=\u001b[0m \u001b[0mscaled_image\u001b[0m\u001b[0;34m.\u001b[0m\u001b[0maffine\u001b[0m\u001b[0;34m\u001b[0m\u001b[0;34m\u001b[0m\u001b[0m\n\u001b[1;32m      4\u001b[0m \u001b[0mprint\u001b[0m\u001b[0;34m(\u001b[0m\u001b[0;34m\"affine: \"\u001b[0m\u001b[0;34m,\u001b[0m \u001b[0maffine1\u001b[0m\u001b[0;34m)\u001b[0m\u001b[0;34m\u001b[0m\u001b[0;34m\u001b[0m\u001b[0m\n\u001b[1;32m      5\u001b[0m \u001b[0;34m\u001b[0m\u001b[0m\n",
      "\u001b[0;31mNameError\u001b[0m: name 'scaled_image' is not defined"
     ]
    }
   ],
   "source": [
    "print(transformed_image.shape)\n",
    "\n",
    "affine1 = transformed_image.affine\n",
    "print(\"affine: \", affine1)\n",
    "\n",
    "hdr = transformed_image.header\n",
    "print(hdr.get_xyzt_units())\n",
    "sformx = hdr['srow_x']\n",
    "sformy = hdr['srow_y']\n",
    "sformz = hdr['srow_z']\n",
    "print(\"\\nsform x: \",sformx)\n",
    "print(\"sform y: \",sformy)\n",
    "print(\"sform z: \",sformz)"
   ]
  },
  {
   "cell_type": "code",
   "execution_count": null,
   "metadata": {},
   "outputs": [],
   "source": [
    "original_image.size\n",
    "\n",
    "sx, sy, sz = original_nii.header.get_zooms()\n",
    "print(sx, sy, sz)"
   ]
  },
  {
   "cell_type": "code",
   "execution_count": 24,
   "metadata": {},
   "outputs": [
    {
     "data": {
      "text/plain": [
       "(392, 392, 210)"
      ]
     },
     "execution_count": 24,
     "metadata": {},
     "output_type": "execute_result"
    }
   ],
   "source": [
    "testimg = nib.load(\"_image.nii.gz\")\n",
    "testimg.shape"
   ]
  },
  {
   "cell_type": "code",
   "execution_count": 8,
   "metadata": {},
   "outputs": [],
   "source": [
    "# remove downloaded files"
   ]
  }
 ],
 "metadata": {
  "kernelspec": {
   "display_name": "Python 3",
   "language": "python",
   "name": "python3"
  },
  "language_info": {
   "codemirror_mode": {
    "name": "ipython",
    "version": 3
   },
   "file_extension": ".py",
   "mimetype": "text/x-python",
   "name": "python",
   "nbconvert_exporter": "python",
   "pygments_lexer": "ipython3",
   "version": "3.8.10"
  }
 },
 "nbformat": 4,
 "nbformat_minor": 4
}
