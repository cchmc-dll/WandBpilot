{
 "cells": [
  {
   "cell_type": "markdown",
   "id": "300e4660-dca0-4bc8-8238-4608dee8e601",
   "metadata": {
    "tags": []
   },
   "source": [
    "<h3>Training Notebook for MONAI / MONAILabel</h3>"
   ]
  },
  {
   "cell_type": "code",
   "execution_count": 1,
   "id": "1e90362f-3b19-42c7-a2c3-53c5fd6b82fe",
   "metadata": {},
   "outputs": [],
   "source": [
    "#generates deepedit pretrained models for use in MONAILabel radiology application\n",
    "#requires MONAI repo (NOT MONAILabel) for training: https://github.com/Project-MONAI/MONAI\n",
    "#requires MONAILabel repo (NOT MONAI) for server / slicer plugin use: https://github.com/Project-MONAI/MONAILabel\n",
    "#requires modified train.py script from MONAI tutorials\n",
    "#requires dataset to be trained"
   ]
  },
  {
   "cell_type": "code",
   "execution_count": 2,
   "id": "ee6bf01e-4aee-499f-9b5d-748e712cc995",
   "metadata": {},
   "outputs": [
    {
     "name": "stdout",
     "output_type": "stream",
     "text": [
      "/workspace\n"
     ]
    },
    {
     "data": {
      "text/plain": [
       "'/workspace'"
      ]
     },
     "execution_count": 2,
     "metadata": {},
     "output_type": "execute_result"
    }
   ],
   "source": [
    "%pwd  #look at the current work dir\n",
    "#move to main directory for access to both dataset and MONAI folders\n",
    "%cd /workspace\n",
    "%pwd"
   ]
  },
  {
   "cell_type": "code",
   "execution_count": 3,
   "id": "9abb9967-1cc8-4430-a24b-7746e5017fe1",
   "metadata": {},
   "outputs": [],
   "source": [
    "import os\n",
    "os.chdir('/workspace/abdominal-segmentation/MONAI')"
   ]
  },
  {
   "cell_type": "code",
   "execution_count": 4,
   "id": "56b0205e-d90f-4c46-bdb2-d8f59a0cdd02",
   "metadata": {},
   "outputs": [],
   "source": [
    "#define paths for dataset input / model output, output will make subfolders according to dataset name\n",
    "dataset_path = \"/workspace/abdominal-segmentation/datasets/\"\n",
    "output_path = \"/workspace/abdominal-segmentation/models\"\n",
    "#custom arg variables\n",
    "dataset = \"Task09_Spleen\"\n",
    "\n",
    "\n",
    "full_dataset = dataset_path + \"/\" + dataset\n",
    "output = output_path + \"/\" + dataset\n",
    "epochnum = 100\n",
    "multi_gpu_bool = \"false\"\n",
    "network_type = \"dynunet\"\n",
    "\n",
    "#defaults\n",
    "use_gpu_bool = \"true\"\n",
    "seednum = 36\n",
    "amp_bool = \"false\"\n",
    "split_float = 0.9\n",
    "limit_int = 0\n",
    "cache_dir_str = None\n",
    "resume_bool = \"false\"\n",
    "val_freq_int = 1\n",
    "learning_rate_float = 0.0001\n",
    "max_train_inter_int = 15\n",
    "max_val_inter_int = 5\n",
    "deepgrow_prob_train_float = 0.4\n",
    "deepgrow_prob_val_float = 1.0\n",
    "save_interval_int = 3\n",
    "image_interval_int = 1\n",
    "local_rank_int = 0\n",
    "export_bool = \"false\""
   ]
  },
  {
   "cell_type": "code",
   "execution_count": 5,
   "id": "3cddb322-50ef-410f-b46f-263fe1ca1559",
   "metadata": {},
   "outputs": [],
   "source": [
    "\n",
    "#define deepedit train command, arguments can be added / removed, else will run default\n",
    "runtrain = f\"python train.py\\\n",
    "                    -i={full_dataset}\\\n",
    "                    -o={output}\\\n",
    "                    -e={epochnum}\\\n",
    "                    --multi_gpu={multi_gpu_bool}\\\n",
    "                    -n={network_type}\""
   ]
  },
  {
   "cell_type": "code",
   "execution_count": 8,
   "id": "ebdf7eb3-8558-484b-b410-421578041645",
   "metadata": {},
   "outputs": [
    {
     "name": "stdout",
     "output_type": "stream",
     "text": [
      "Args:  Namespace(amp=False, cache_dir=None, deepgrow_probability_train=0.4, deepgrow_probability_val=1.0, epochs=100, export=False, image_interval=1, input='/workspace/abdominal-segmentation/datasets//Task09_Spleen', labels={'liver': 1, 'spleen': 2, 'background': 0}, learning_rate=0.0001, limit=0, local_rank=0, max_train_interactions=15, max_val_interactions=5, model_filepath='/workspace/abdominal-segmentation/models/Task09_Spleen/net_key_metric=0.8566.pt', multi_gpu=False, network='dynunet', output='/workspace/abdominal-segmentation/models/Task09_Spleen', resume=False, save_interval=3, seed=36, spatial_size=[128, 128, 128], split=0.9, use_gpu=True, val_freq=1)\n"
     ]
    }
   ],
   "source": [
    "#run trainer\n",
    "!{runtrain}"
   ]
  },
  {
   "cell_type": "code",
   "execution_count": null,
   "id": "3722939d-48d7-4db1-b402-df806e945add",
   "metadata": {},
   "outputs": [],
   "source": [
    "#rename and move pretrained model final to main MONAILabel radiology app model folder for MONAILabel server use, requires MONAILabel repo\n",
    "#WILL OVERWRITE EXISTING PRETRAINED MODEL\n",
    "\n",
    "import os\n",
    "import shutil\n",
    "\n",
    "radiology_model_path = \"MONAILabel/sample-apps/radiology/model\"\n",
    "model = \"pretrained_deepedit_dynunet-final.pt\"\n",
    "output_final_model_path = output + \"/\" + model\n",
    "shutil.copy(output_final_model_path, radiology_model_path + \"/pretrained_deepedit_dynunet.pt\")\n"
   ]
  },
  {
   "cell_type": "code",
   "execution_count": null,
   "id": "435a89c9-b2dc-4399-8092-33d4eac1687d",
   "metadata": {},
   "outputs": [],
   "source": [
    "#define server startup command for checking results\n",
    "runserver = f\"monailabel start_server\\\n",
    "    --app MONAILabel/sample-apps/radiology\\\n",
    "    --studies {full_dataset}\\\n",
    "    --conf models deepedit\""
   ]
  },
  {
   "cell_type": "code",
   "execution_count": null,
   "id": "f4626495-867e-4a8e-afda-c43c43ce586e",
   "metadata": {},
   "outputs": [],
   "source": [
    "#run server, accessible in slicer\n",
    "print(\"Running server on dataset: \", full_dataset)\n",
    "!{runserver}"
   ]
  },
  {
   "cell_type": "code",
   "execution_count": null,
   "id": "f3b1cd1b-0353-4fb7-8d2c-c6c91660231d",
   "metadata": {},
   "outputs": [],
   "source": [
    "#--input       deepedit_model/model.pt \\\n",
    "#--output      deepedit_model/model.ts \\\n",
    "#--export      true"
   ]
  },
  {
   "cell_type": "code",
   "execution_count": null,
   "id": "98ff408c-791e-480a-a065-edea61b403fb",
   "metadata": {},
   "outputs": [],
   "source": [
    "#run model on dataset via notebook / script\n",
    "\n"
   ]
  }
 ],
 "metadata": {
  "kernelspec": {
   "display_name": "Python 3",
   "language": "python",
   "name": "python3"
  },
  "language_info": {
   "codemirror_mode": {
    "name": "ipython",
    "version": 3
   },
   "file_extension": ".py",
   "mimetype": "text/x-python",
   "name": "python",
   "nbconvert_exporter": "python",
   "pygments_lexer": "ipython3",
   "version": "3.8.10"
  }
 },
 "nbformat": 4,
 "nbformat_minor": 5
}
