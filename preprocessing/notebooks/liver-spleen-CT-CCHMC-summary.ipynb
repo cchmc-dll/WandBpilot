{
 "cells": [
  {
   "cell_type": "markdown",
   "id": "e041d437",
   "metadata": {},
   "source": [
    "<h2>ARC Liver-Spleen Project - CT CCHMC Datasheet Demographic Summary</h2>\n",
    "Zachary Taylor"
   ]
  },
  {
   "cell_type": "code",
   "execution_count": null,
   "id": "dcdf3561",
   "metadata": {},
   "outputs": [],
   "source": [
    "!pip install openpyxl\n",
    "import openpyxl\n",
    "import pandas as pd\n",
    "import numpy as np\n",
    "import matplotlib as mpl\n",
    "import matplotlib.pyplot as plt\n",
    "!pip install matplotlib-venn\n",
    "import matplotlib_venn\n",
    "from matplotlib_venn import venn3\n",
    "import os\n",
    "from IPython.core.display import HTML\n",
    "HTML(\"\"\"\n",
    "<style>\n",
    ".output_png {\n",
    "    display: table-cell;\n",
    "    text-align: center;\n",
    "    vertical-align: middle;\n",
    "}\n",
    "</style>\n",
    "\"\"\")"
   ]
  },
  {
   "cell_type": "code",
   "execution_count": 2,
   "id": "ee0f219a",
   "metadata": {},
   "outputs": [],
   "source": [
    "df = pd.read_excel(\"DemographicData_0207222.xlsx\")\n",
    "#df2 = pd.read_csv(\"\")\n",
    "#df = pd.concat(map(pd.read_csv, ['LS_all_features_batch1.csv', 'LS_all_features_batch2.csv']), ignore_index=True)"
   ]
  },
  {
   "cell_type": "code",
   "execution_count": null,
   "id": "d65746ee",
   "metadata": {},
   "outputs": [],
   "source": [
    "dfsub = df[[\"ID\", \"gender\", \"age\"]]\n",
    "total = dfsub[\"ID\"].count()\n",
    "print(\"Total Patients / Samples:\", total)\n",
    "#dfsub.describe()\n",
    "\n",
    "dfmask = pd.read_csv(\"cchmc_ct_standard_summary.csv\")\n",
    "\n",
    "i=0\n",
    "while i<dfmask[\"ID\"].count():\n",
    "#dfmask[\"patid\"] = dfmask[\"patid\"].replace(dfmask[\"patid\"].to_string(),dfmask[\"patid\"].str.split('_',-1))\n",
    "    dfmask[\"ID\"].iat[i] = dfmask[\"ID\"].iloc[i].split('_',-1)[-1]\n",
    "    dfmask[\"ID\"].iat[i]= int(dfmask[\"ID\"].iloc[i])\n",
    "    i=i+1\n",
    "dfmasksub = dfmask[[\"ID\", \"spleen_volume\"]]\n",
    "print(dfmask[\"ID\"])\n",
    "\n",
    "\n",
    "\n",
    "#missingdirs = dft2[\"mask directory\"].isnull().sum().sum()\n",
    "#dft2['mask directory'] = dft2['mask directory'].fillna(\"missing\")\n",
    "#missingseqs = dfsubnew[\"sequence\"].isnull().sum().sum()\n",
    "#dft2['sequence'] = dft2['sequence'].fillna(\"missing\")\n",
    "\n",
    "\n",
    "#dft2sub = dft2[[\"Subject ID\",\"T2 Directory\", \"mask directory\", \"sequence\", \"has directory\"]]\n",
    "\n",
    "dfsubnew = dfsub.merge(dfmasksub, how='outer', on='ID')\n",
    "#dfsubnew = dfsub.merge(dft2sub, how='outer', on='Subject ID')\n",
    "#dfsubnew['sequence'] = dfsubnew['sequence'].fillna(\"unknown\")\n",
    "\n",
    "print(dfsubnew.describe())\n",
    "print(\"missing age: \",(total-dfsubnew['age'].count()))\n",
    "print(\"missing gender: \",(total-dfsubnew['gender'].count()))\n",
    "print(\"missing spleen mask: \",(total-dfsubnew['spleen_volume'].count()))\n"
   ]
  },
  {
   "cell_type": "markdown",
   "id": "aab445a3",
   "metadata": {},
   "source": [
    "<h3>Categorical Analysis</h3>"
   ]
  },
  {
   "cell_type": "code",
   "execution_count": null,
   "id": "e1069d52",
   "metadata": {},
   "outputs": [],
   "source": [
    "#subjectcount = dfsubnew[\"Subject ID\"].value_counts()\n",
    "\n",
    "#dft2['mask directory'] = dft2['mask directory'].fillna(\"missing\")\n",
    "\n",
    "#dfsubnew[\"has directory\"] = dfsubnew[\"has directory\"].fillna(\"unknown\")\n",
    "#dircount_dict = {1.0:\"Found\", 0.0:\"Not Found\", \"unknown\":\"Unknown\"}\n",
    "#dircount = dfsubnew[\"has directory\"].value_counts().rename(index=dircount_dict)\n",
    "#percdir = dircount / dircount.sum()\n",
    "\n",
    "#print(\"\\nMask Directory Count:\")\n",
    "#print(\"\\nmissing directories:\",missingdirs)\n",
    "\n",
    "#t2 = dft2sub[\"Subject ID\"].count() - missingperc\n",
    "#found = {\"T2\":[t2],\"Missing Directory\":[missingdirs]}\n",
    "#dft2found = pd.DataFrame(data=found)\n",
    "#print(pd.concat([dircount,percdir], axis=1,keys=['counts', '%']))\n",
    "\n",
    "print('\\nMasking:')\n",
    "\n",
    "spleencount = dfsubnew[\"spleen_volume\"].count()\n",
    "spleenmissing = abs(total - spleencount)\n",
    "percspleen = [spleencount / total , spleenmissing / total]\n",
    "\n",
    "arrspleen = np.array([spleencount, spleenmissing])\n",
    "arrspleenlabels = ['Spleen Mask Found', 'Spleen Mask Missing']\n",
    "print(\"\\n Spleen\")\n",
    "print(pd.concat([pd.DataFrame(arrspleenlabels),pd.DataFrame(arrspleen),pd.DataFrame(percspleen)], axis=1,keys=['','counts', '%']))\n",
    "\n",
    "print('\\nGender:')\n",
    "gendercount = dfsub[\"gender\"].value_counts(dropna=False)\n",
    "genderperc = dfsub[\"gender\"].value_counts(dropna=False, normalize=True)\n",
    "print(pd.concat([gendercount,genderperc], axis=1,keys=['counts', '%']))"
   ]
  },
  {
   "cell_type": "markdown",
   "id": "8a668e1b",
   "metadata": {},
   "source": [
    "<h3>Discrete Analysis<h3>"
   ]
  },
  {
   "cell_type": "code",
   "execution_count": null,
   "id": "a51a317b",
   "metadata": {},
   "outputs": [],
   "source": [
    "print('Age:\\n')\n",
    "\n",
    "i=0\n",
    "while i<dfsubnew[\"age\"].count():\n",
    "#dfmask[\"patid\"] = dfmask[\"patid\"].replace(dfmask[\"patid\"].to_string(),dfmask[\"patid\"].str.split('_',-1))\n",
    "    #print(dfsubnew[\"age\"].iat[i])\n",
    "    dfsubnew[\"age\"].iat[i] = dfsubnew[\"age\"].iloc[i].split('y, ')\n",
    "    #print(dfsubnew[\"age\"].iat[i])\n",
    "    dfsubnew[\"age\"].iat[i] = str(int(dfsubnew[\"age\"].iloc[i][0]))+'.'+(str(int((float(dfsubnew[\"age\"].iloc[i][1].replace('m',''))/12)*10)))\n",
    "    #print(dfsubnew[\"age\"].iat[i])\n",
    "    dfsubnew[\"age\"].iat[i]= float(dfsubnew[\"age\"].iloc[i])\n",
    "    i=i+1\n",
    "\n",
    "print(dfsubnew.agg({\"age\":[\"min\",\"max\",\"mean\",\"median\",\"skew\"]}))\n",
    "\n",
    "#nullheight = heightdata.isnull().sum().sum()\n",
    "#nullweight = weightdata.isnull().sum().sum()\n",
    "#hnullperc = nullheight / heightdata.size * 100\n",
    "#wnullperc = nullweight / weightdata.size * 100\n",
    "#print(dfsub.agg({\"HEIGHT\":[\"min\",\"max\",\"mean\",\"median\",\"skew\"], \"WEIGHT\":[\"min\",\"max\",\"mean\",\"median\",\"skew\"]}))\n",
    "#print(\"NOTE:\",nullheight,\" patients' height not listed; \",nullweight,\" patients' weight not listed\\n\",hnullperc,\"% patients missing height data\\n\",wnullperc,\"% patients missing weight data\")"
   ]
  },
  {
   "cell_type": "markdown",
   "id": "906d5dba",
   "metadata": {},
   "source": [
    "<h3>Figures and Graphs<h3>"
   ]
  },
  {
   "cell_type": "code",
   "execution_count": null,
   "id": "484084f2",
   "metadata": {},
   "outputs": [],
   "source": [
    "print('Categorical:\\n')\n",
    "figt, axt = plt.subplots(1,2, figsize = (15,5))\n",
    "\n",
    "colorsgen = ['#c7846b','#6b70c7']\n",
    "axt[0].pie(gendercount, shadow=True, labels=gendercount.index, autopct='%1.1f%%', startangle=90)\n",
    "\n",
    "axt[0].set_title('Gender ('+str(total)+' Samples)')\n",
    "\n",
    "colorssp = ['#784880','#FAC9B8']\n",
    "axt[1].pie(arrspleen, labels=arrspleenlabels,colors=colorssp,autopct='%1.1f%%',\n",
    "        shadow=True, startangle=90)\n",
    "axt[1].set_title('Spleen Masks Found ('+str(total)+' Samples)')\n",
    "plt.show()\n",
    "\n",
    "\n",
    "print('\\n\\nDiscrete:\\n')\n",
    "\n",
    "agedata = dfsubnew[\"age\"]\n",
    "\n",
    "bins = [0.0,1.0,2.0,3.0,4.0,5.0,6.0,7.0,8.0,9.0,10.0,11.0,12.0,13.0,14.0,15.0,16.0,17.0,18.0]\n",
    "plt.figure(figsize=(9,5))\n",
    "plt.suptitle('Age', fontsize=14)\n",
    "plt.hist(dfsubnew[\"age\"], bins=bins, edgecolor=\"red\")\n",
    "plt.xlabel('Age (years)')\n",
    "plt.ylabel('Count')\n",
    "plt.axis([0, 20, 0, 25])\n",
    "plt.grid()\n",
    "plt.show()\n",
    "print('\\n\\n')\n",
    "\n",
    "plt.show()"
   ]
  }
 ],
 "metadata": {
  "kernelspec": {
   "display_name": "Python 3",
   "language": "python",
   "name": "python3"
  },
  "language_info": {
   "codemirror_mode": {
    "name": "ipython",
    "version": 3
   },
   "file_extension": ".py",
   "mimetype": "text/x-python",
   "name": "python",
   "nbconvert_exporter": "python",
   "pygments_lexer": "ipython3",
   "version": "3.9.2"
  }
 },
 "nbformat": 4,
 "nbformat_minor": 5
}
