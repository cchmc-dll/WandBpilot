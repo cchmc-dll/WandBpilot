{
 "cells": [
  {
   "cell_type": "markdown",
   "id": "e041d437",
   "metadata": {},
   "source": [
    "<h2>ARC Liver-Spleen Project - CHAOS Datasheet Summary</h2>\n",
    "Zachary Taylor"
   ]
  },
  {
   "cell_type": "code",
   "execution_count": null,
   "id": "dcdf3561",
   "metadata": {},
   "outputs": [],
   "source": [
    "import pandas as pd\n",
    "import numpy as np\n",
    "import matplotlib as mpl\n",
    "import matplotlib.pyplot as plt\n",
    "!pip install matplotlib-venn\n",
    "import matplotlib_venn\n",
    "from matplotlib_venn import venn3\n",
    "import os\n",
    "from IPython.core.display import HTML\n",
    "HTML(\"\"\"\n",
    "<style>\n",
    ".output_png {\n",
    "    display: table-cell;\n",
    "    text-align: center;\n",
    "    vertical-align: middle;\n",
    "}\n",
    "</style>\n",
    "\"\"\")"
   ]
  },
  {
   "cell_type": "code",
   "execution_count": null,
   "id": "d65746ee",
   "metadata": {},
   "outputs": [],
   "source": [
    "df = pd.read_csv(\"chaos_summary.csv\")\n",
    "dfsub = df[[\"ID\", \"sequence\", \"spleen_volume\", \"lkidney_volume\"]]\n",
    "total = dfsub[\"ID\"].count()\n",
    "print(\"Total Scans: \",total)\n",
    "\n",
    "#Categories: Sequence (CT vs T1DUAL (In_Phase + Out_Phase) vs MR T2SPIR), Liver/Spleen Mask (Y/N), Kidney Mask (Y/N)\n",
    "\n",
    "print(dfsub.describe())\n",
    "\n",
    "print(\"missing sequence: \",(total-dfsub['sequence'].count()))\n"
   ]
  },
  {
   "cell_type": "markdown",
   "id": "aab445a3",
   "metadata": {},
   "source": [
    "<h3>Categorical Analysis</h3>"
   ]
  },
  {
   "cell_type": "code",
   "execution_count": null,
   "id": "e1069d52",
   "metadata": {
    "scrolled": true
   },
   "outputs": [],
   "source": [
    "print(\"\\nSequence Count:\")\n",
    "\n",
    "sequencecount = dfsub[\"sequence\"].value_counts(dropna=False)\n",
    "sequenceperc = dfsub[\"sequence\"].value_counts(dropna=False, normalize=True)\n",
    "\n",
    "ct = t1dual = t2spir = otherseq = miss = unknownseq = 0\n",
    "labelarr=sequencecount.index\n",
    "\n",
    "i=0\n",
    "#while i<sequencecount.size:\n",
    "#    if(not isinstance(labelarr[i], str)):\n",
    "#        unknownseq = unknownseq + sequencecount[i]\n",
    "#    elif((labelarr[i].find(\"CT\")!= -1)):\n",
    "#        ct = ct + sequencecount[i]    \n",
    "#    elif((labelarr[i].find(\"T1DUAL\")!= -1)):\n",
    "#        t1dual = t1dual + sequencecount[i]\n",
    "#    elif((labelarr[i].find(\"T2SPIR\")!= -1)):\n",
    "#        t2spir = t2spir + sequencecount[i]\n",
    "#    elif((labelarr[i]==\"missing\")):\n",
    "#        miss = miss + sequencecount[i]\n",
    "#    elif((labelarr[i]==\"unknown\")):\n",
    "#        unknownseq = unknownseq + sequencecount[i]\n",
    "#    else:\n",
    "#        otherseq = otherseq + sequencecount[i]\n",
    "#    i = i + 1\n",
    "        \n",
    "#filteredseq = {'CT':ct, 'T1DUAL':t1dual, 'T2SPIR':t2spir, 'Other':otherseq, 'Missing':miss, 'Unknown':unknownseq}\n",
    "\n",
    "#arrseq = np.array([ct, t1dual, t2spir])\n",
    "#arrseqlabels = ['CT', 'T1 DUAL', 'T2 SPIR']\n",
    "#totalseq = arrseq.sum()\n",
    "#percseq = arrseq/totalseq\n",
    "\n",
    "print('\\nTOTAL:',dfsub['sequence'].count())\n",
    "print(pd.concat([sequencecount,sequenceperc], axis=1,keys=['counts', '%']))\n",
    "#print(pd.concat([pd.DataFrame(arrseqlabels),pd.DataFrame(arrseq),pd.DataFrame(percseq)], axis=1,keys=['Sequence','counts', '%']))\n",
    "\n",
    "print('\\nMasking:')\n",
    "\n",
    "spleencount = dfsub[\"spleen_volume\"].count()\n",
    "spleenmissing = total - spleencount\n",
    "percspleen = [spleencount / total , spleenmissing / total]\n",
    "\n",
    "arrspleen = np.array([spleencount, spleenmissing])\n",
    "arrspleenlabels = ['Spleen Mask Found', 'Spleen Mask Missing']\n",
    "\n",
    "kidneycount = dfsub[\"lkidney_volume\"].count()\n",
    "kidneymissing = total - kidneycount\n",
    "perckidney = [kidneycount / total , kidneymissing / total]\n",
    "\n",
    "arrkidney = np.array([kidneycount, kidneymissing])\n",
    "arrkidneylabels = ['Kidney Mask Found', 'Kidney Mask Missing']\n",
    "#kidneydf = pd.DataFrame({\"Kidney Mask Found\": np.array([kidneycount]), \"Kidney Mask Missing\": np.array([kidneymissing])})\n",
    "\n",
    "\n",
    "print(\"\\n Spleen\")\n",
    "print(pd.concat([pd.DataFrame(arrspleenlabels),pd.DataFrame(arrspleen),pd.DataFrame(percspleen)], axis=1,keys=['','counts', '%']))\n",
    "print(\"\\n Kidney\")\n",
    "print(pd.concat([pd.DataFrame(arrkidneylabels),pd.DataFrame(arrkidney),pd.DataFrame(perckidney)],axis=1,keys=['','counts', '%']))"
   ]
  },
  {
   "cell_type": "markdown",
   "id": "906d5dba",
   "metadata": {},
   "source": [
    "<h3>Figures and Graphs<h3>"
   ]
  },
  {
   "cell_type": "code",
   "execution_count": null,
   "id": "f3a5101c",
   "metadata": {},
   "outputs": [],
   "source": [
    "figt, axt = plt.subplots(1,3, figsize = (20,5))\n",
    "\n",
    "axt[0].pie(sequencecount, shadow=True, labels=labelarr, autopct='%1.1f%%', startangle=90)\n",
    "\n",
    "axt[0].set_title('Sequence')\n",
    "\n",
    "colorssp = ['#00ba95','#e8729b']\n",
    "axt[1].pie(arrspleen, labels=arrspleenlabels,colors=colorssp,autopct='%1.1f%%',\n",
    "        shadow=True, startangle=90)\n",
    "axt[1].set_title('Spleen Masks Found')\n",
    "colorskid = ['#4838f5','#cadb2c']\n",
    "axt[2].pie(arrkidney, labels=arrkidneylabels,colors=colorskid,autopct='%1.1f%%',\n",
    "        shadow=True, startangle=90)\n",
    "axt[2].set_title('Kidney Masks Found')\n",
    "\n",
    "plt.show()\n"
   ]
  }
 ],
 "metadata": {
  "kernelspec": {
   "display_name": "Python 3",
   "language": "python",
   "name": "python3"
  },
  "language_info": {
   "codemirror_mode": {
    "name": "ipython",
    "version": 3
   },
   "file_extension": ".py",
   "mimetype": "text/x-python",
   "name": "python",
   "nbconvert_exporter": "python",
   "pygments_lexer": "ipython3",
   "version": "3.9.2"
  }
 },
 "nbformat": 4,
 "nbformat_minor": 5
}
